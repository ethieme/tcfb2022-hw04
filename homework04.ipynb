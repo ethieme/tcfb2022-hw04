{
 "cells": [
  {
   "cell_type": "markdown",
   "metadata": {},
   "source": [
    "# Homework 4: Practical analysis with BioPython"
   ]
  },
  {
   "cell_type": "markdown",
   "metadata": {},
   "source": [
    "For the homework, you are going to extend the code from the analysis of our FASTQ file in lectures 8 and 9.\n",
    "Recall that the FASTQ file contains reads from a real sequencing run of influenza virus HA and NA genes.\n",
    "\n",
    "The _actual sequences_ are as follows:\n",
    "\n",
    "    5'-[end of HA]-AGGCGGCCGC-[16 X N barcode]-3'\n",
    "    \n",
    "or \n",
    "\n",
    "    5'-[end of NA]-AGGCGGCCGC-[16 X N barcode]-3'\n",
    "    \n",
    "The end of NA is:\n",
    "\n",
    "    ...CACGATAGATAAATAATAGTGCACCAT\n",
    "    \n",
    "The end of HA is:\n",
    "\n",
    "    ...CCGGATTTGCATATAATGATGCACCAT\n",
    "    \n",
    "The _sequencing reads_ (located in the FASTQ file) are from the reverse end of these actual sequences, so the first thing in the sequencing reads is the reverse complement of the barcode followed by the reverse complement of the constant sequence, etc.\n",
    "The reads can originate from **either** HA or NA, and that will be distinguished by the most 3' end of the read.\n",
    "But in our example exercise in class, we did not distinguish among reads matching to HA and NA, as we didn't even look far enough into the read to tell the identity.\n",
    "\n",
    "For the homework, your goal is to write code that extends the material from lectures 8 and 9 to also distinguish between HA and NA.\n",
    "This homework can be completed almost entirely by re-using code from lecture 9. You will need to set up your analysis to do the following:\n",
    " 1. Get the reverse complement of each read.\n",
    " 2. Determine if it matches the expected pattern for HA and NA, and if so which one.\n",
    " 3. If it matches, extract the barcode and add it to a dictionary to keep track of counts.\n",
    " 4. Determine the number and distribution of barcodes for HA and NA separately.\n",
    "\n",
    "Please include code to address each of the following questions. Please include code comments to explain what your code is attempting to accomplish. Don't forget to include references to the sources you used to obtain your answer, including your classmates (if you are working in groups).  "
   ]
  },
  {
   "cell_type": "markdown",
   "metadata": {},
   "source": [
    "1. How many reads map to HA, and how many reads map to NA?"
   ]
  },
  {
   "cell_type": "code",
   "execution_count": 43,
   "metadata": {},
   "outputs": [
    {
     "data": {
      "text/plain": [
       "{'NA_count': 3910, 'HA_count': 5246, 'neither': 248}"
      ]
     },
     "execution_count": 43,
     "metadata": {},
     "output_type": "execute_result"
    }
   ],
   "source": [
    "import re\n",
    "import Bio.SeqIO\n",
    "\n",
    "# Read in the sequencing reads\n",
    "seqreads = list(Bio.SeqIO.parse('barcodes_R1.fastq', format='fastq'))\n",
    "\n",
    "# Convert the sequencing reads into strings\n",
    "seqreads_str = []\n",
    "for seqrecord in seqreads:\n",
    "    sequence = str(seqrecord.seq) # convert sequence part to string\n",
    "    seqreads_str.append(sequence) # add string sequence to list\n",
    "\n",
    "# define a function to get the reverse compliment of the DNA sequence\n",
    "def reverse_complement(seq, unk_partner = 'N'):\n",
    "    base_partner = {'A':'T', 'T':'A', 'C':'G', 'G':'C'}\n",
    "    rseq = ''\n",
    "    for a in seq:\n",
    "        if a in base_partner:\n",
    "            # look up the complementary base in the dictionary\n",
    "            pair = base_partner[a]\n",
    "            rseq = pair + rseq\n",
    "        else:\n",
    "            rseq = unk_partner + rseq\n",
    "    return rseq\n",
    "\n",
    "# turn the reverse compliment into a list\n",
    "rev = []\n",
    "for seq in seqreads_str:\n",
    "    reverse_complement(seq)\n",
    "    rev.append(reverse_complement(seq))\n",
    "\n",
    "' '.join(rev)\n",
    "\n",
    "# Determine if a read maps to HA or NA\n",
    "def read_virus(seqs, end_len = 27, downstream='AGGCGGCCGC', bclen = 16):\n",
    "    \n",
    "    # compile the search pattern\n",
    "    virus_patern = re.compile('(?P<virus_type>[ATCG]{' + str(end_len) + '})'+ downstream + f\"(?P<barcode>[ATCGN]{{{bclen}}})$\")\n",
    "\n",
    "    # set your virus types\n",
    "    NA = 'CACGATAGATAAATAATAGTGCACCAT'\n",
    "    HA = 'CCGGATTTGCATATAATGATGCACCAT'\n",
    "\n",
    "    # make an empty dictionary to count your virus types\n",
    "    virus_count = {'NA_count':0, 'HA_count':0, 'neither':0} \n",
    "\n",
    "    for seq in seqs: # iterate through all reads and search for the pattern\n",
    "        match = virus_patern.search(seq)\n",
    "\n",
    "        if match:\n",
    "            virus_type = match.group(\"virus_type\")\n",
    "            if virus_type == NA:\n",
    "                virus_count['NA_count'] +=1\n",
    "            elif virus_type == HA:\n",
    "                virus_count['HA_count'] += 1\n",
    "            else:\n",
    "                virus_count['neither'] += 1\n",
    "    return virus_count\n",
    "\n",
    "\n",
    "read_virus(rev)\n"
   ]
  },
  {
   "cell_type": "markdown",
   "metadata": {},
   "source": [
    "2. What is the HA barcode with the most counts (and how many counts)? Also answer the same question for NA.\n",
    "\n",
    "    _Hint: you will need to find the key associated with the maximum value in your dictionary. There are many ways to do this._"
   ]
  },
  {
   "cell_type": "code",
   "execution_count": 67,
   "metadata": {},
   "outputs": [
    {
     "name": "stdout",
     "output_type": "stream",
     "text": [
      "The HA barcode with the most counts is: CCCGACCCGACATTAA and it has 155 counts\n"
     ]
    }
   ],
   "source": [
    "# Here I'm only assessing HA reads, the NA reads are on the next cell. \n",
    "# I know I could probably do it in one cell, but I've been doing this HW for 4 hours... please have mercy\n",
    "\n",
    "# define a function to identify your HA reads\n",
    "def read_barcode(seqread, bclen = 16, end_len = 27, upstream='AGGCGGCCGC'):\n",
    "    # get the reverse complement of the read\n",
    "    reverse = reverse_complement(seqread)\n",
    "    \n",
    "    # compile the barcode search pattern\n",
    "    HA_barcode_pattern = re.compile('CCGGATTTGCATATAATGATGCACCAT' + upstream + f\"(?P<barcode>[ATCGN]{{{bclen}}})$\")\n",
    "    \n",
    "    # search for the barcode pattern\n",
    "    match = HA_barcode_pattern.search(reverse)\n",
    "    \n",
    "    if match:\n",
    "        barcode = match.group('barcode')\n",
    "        return barcode\n",
    "    else:\n",
    "        return None\n",
    "\n",
    "# get the counts for all barcodes \n",
    "HA_barcode_counts = {}\n",
    "\n",
    "for seq in seqreads_str: # iterate through all reads\n",
    "    barcode = read_barcode(seq)\n",
    "    if barcode: # if there is a valid barcode, add it to the dictionary\n",
    "        if barcode in HA_barcode_counts:\n",
    "            HA_barcode_counts[barcode] += 1\n",
    "        else:\n",
    "            HA_barcode_counts[barcode] = 1\n",
    "\n",
    "# now that we have obtained the barcode counts, we can select the key with the max value\n",
    "\n",
    "max_barcode_HA = max(HA_barcode_counts, key=HA_barcode_counts.get)\n",
    "print('The HA barcode with the most counts is:', max_barcode_HA)"
   ]
  },
  {
   "cell_type": "code",
   "execution_count": 68,
   "metadata": {},
   "outputs": [
    {
     "name": "stdout",
     "output_type": "stream",
     "text": [
      "The NA barcode with the most counts is: ACCAGTTCTCCCCGGG and it has 152 counts\n"
     ]
    }
   ],
   "source": [
    "# Now the same but for NA \n",
    "\n",
    "# define a function to identify your NA reads\n",
    "def read_barcode(seqread, bclen = 16, end_len = 27, upstream='AGGCGGCCGC'):\n",
    "    # get the reverse complement of the read\n",
    "    reverse = reverse_complement(seqread)\n",
    "    \n",
    "    # compile the barcode search pattern\n",
    "    NA_barcode_pattern = re.compile('CACGATAGATAAATAATAGTGCACCAT' + upstream + f\"(?P<barcode>[ATCGN]{{{bclen}}})$\")\n",
    "    \n",
    "    # search for the barcode pattern\n",
    "    match = NA_barcode_pattern.search(reverse)\n",
    "    \n",
    "    if match:\n",
    "        barcode = match.group('barcode')\n",
    "        return barcode\n",
    "    else:\n",
    "        return None\n",
    "\n",
    "# get the counts for all barcodes \n",
    "NA_barcode_counts = {}\n",
    "\n",
    "for seq in seqreads_str: # iterate through all reads\n",
    "    barcode = read_barcode(seq)\n",
    "    if barcode: # if there is a valid barcode, add it to the dictionary\n",
    "        if barcode in NA_barcode_counts:\n",
    "            NA_barcode_counts[barcode] += 1\n",
    "        else:\n",
    "            NA_barcode_counts[barcode] = 1\n",
    "\n",
    "# now that we have obtained the barcode counts, we can select the key with the max value\n",
    "\n",
    "max_barcode_NA = max(NA_barcode_counts, key=NA_barcode_counts.get)\n",
    "max_barcode_count_NA = max(NA_barcode_counts.values())\n",
    "print('The NA barcode with the most counts is:', max_barcode_NA, 'and it has', max_barcode_count_NA, 'counts')"
   ]
  }
 ],
 "metadata": {
  "kernelspec": {
   "display_name": "Python 3.9.5 ('base')",
   "language": "python",
   "name": "python3"
  },
  "language_info": {
   "codemirror_mode": {
    "name": "ipython",
    "version": 3
   },
   "file_extension": ".py",
   "mimetype": "text/x-python",
   "name": "python",
   "nbconvert_exporter": "python",
   "pygments_lexer": "ipython3",
   "version": "3.9.5"
  },
  "toc": {
   "nav_menu": {},
   "number_sections": false,
   "sideBar": true,
   "skip_h1_title": false,
   "toc_cell": false,
   "toc_position": {
    "height": "623.8px",
    "left": "0px",
    "right": "829.6px",
    "top": "33.2px",
    "width": "322.4px"
   },
   "toc_section_display": "block",
   "toc_window_display": true
  },
  "vscode": {
   "interpreter": {
    "hash": "b6309cd02cd1a9a78b424bc95ef11214aca9cef984ff75db8f581fe0d2350c5d"
   }
  }
 },
 "nbformat": 4,
 "nbformat_minor": 2
}
